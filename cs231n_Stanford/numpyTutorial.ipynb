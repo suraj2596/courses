{
  "nbformat": 4,
  "nbformat_minor": 0,
  "metadata": {
    "colab": {
      "name": "numpyTutorial.ipynb",
      "version": "0.3.2",
      "views": {},
      "default_view": {},
      "provenance": [],
      "collapsed_sections": []
    },
    "kernelspec": {
      "name": "python3",
      "display_name": "Python 3"
    }
  },
  "cells": [
    {
      "metadata": {
        "id": "lwAQ3uws3fvI",
        "colab_type": "code",
        "colab": {
          "autoexec": {
            "startup": false,
            "wait_interval": 0
          }
        }
      },
      "cell_type": "code",
      "source": [
        "#Power of a number\n",
        "a=3\n",
        "b = a**2\n",
        "print (b)"
      ],
      "execution_count": 0,
      "outputs": []
    },
    {
      "metadata": {
        "id": "4wxnodyZ4adG",
        "colab_type": "code",
        "colab": {
          "autoexec": {
            "startup": false,
            "wait_interval": 0
          }
        }
      },
      "cell_type": "code",
      "source": [
        "#x++ is wrong way.\n",
        "x=1\n",
        "x+=1 #this is the way to increment"
      ],
      "execution_count": 0,
      "outputs": []
    },
    {
      "metadata": {
        "id": "Rc9wWbLJ7DZK",
        "colab_type": "code",
        "colab": {
          "autoexec": {
            "startup": false,
            "wait_interval": 0
          }
        }
      },
      "cell_type": "code",
      "source": [
        "#boolean\n",
        "a=True\n",
        "b=False\n",
        "\n",
        "print(a and b) #and\n",
        "print(a or b) #or\n",
        "print(not a) #not\n",
        "print(a!=b) #xor"
      ],
      "execution_count": 0,
      "outputs": []
    },
    {
      "metadata": {
        "id": "XY571VII7v1G",
        "colab_type": "code",
        "colab": {
          "autoexec": {
            "startup": false,
            "wait_interval": 0
          },
          "base_uri": "https://localhost:8080/",
          "height": 90
        },
        "outputId": "f7cb4fd3-2879-4f61-d030-dfb3b4bb5954",
        "executionInfo": {
          "status": "ok",
          "timestamp": 1523437507606,
          "user_tz": -330,
          "elapsed": 848,
          "user": {
            "displayName": "suraj bonagiri",
            "photoUrl": "//lh6.googleusercontent.com/-0F1W31o5q6E/AAAAAAAAAAI/AAAAAAAAA1c/XRzofGyVVA0/s50-c-k-no/photo.jpg",
            "userId": "117654023614571625344"
          }
        }
      },
      "cell_type": "code",
      "source": [
        "#String formatting\n",
        "a = 'hi'\n",
        "b = 'bye'\n",
        "\n",
        "print (a)\n",
        "print(len(b)) #length of string\n",
        "print(a+' and '+b) #string concatination\n",
        "print('%s %s %d' %(a,b,6249)) #sprintf format (like C)"
      ],
      "execution_count": 8,
      "outputs": [
        {
          "output_type": "stream",
          "text": [
            "hi\n",
            "3\n",
            "hi and bye\n",
            "hi bye 6249\n"
          ],
          "name": "stdout"
        }
      ]
    },
    {
      "metadata": {
        "id": "-AIMAlk2809w",
        "colab_type": "code",
        "colab": {
          "autoexec": {
            "startup": false,
            "wait_interval": 0
          }
        }
      },
      "cell_type": "code",
      "source": [
        ""
      ],
      "execution_count": 0,
      "outputs": []
    }
  ]
}